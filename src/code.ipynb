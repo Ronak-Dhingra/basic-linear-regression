{
 "cells": [
  {
   "cell_type": "code",
   "execution_count": 1,
   "metadata": {},
   "outputs": [],
   "source": [
    "import pickle\n",
    "import numpy as np\n",
    "import matplotlib.pyplot as plt\n",
    "from sklearn.linear_model import LinearRegression\n",
    "from sklearn.preprocessing import PolynomialFeatures\n",
    "from prettytable import PrettyTable"
   ]
  },
  {
   "cell_type": "code",
   "execution_count": 2,
   "metadata": {},
   "outputs": [],
   "source": [
    "with open('test_dataset.pickle', 'rb') as test_file:\n",
    "    test_data = pickle.load(test_file)"
   ]
  },
  {
   "cell_type": "code",
   "execution_count": 3,
   "metadata": {},
   "outputs": [],
   "source": [
    "with open('train_dataset.pickle', 'rb') as train_file:\n",
    "    train_data = pickle.load(train_file)"
   ]
  },
  {
   "cell_type": "code",
   "execution_count": 4,
   "metadata": {},
   "outputs": [],
   "source": [
    "shuffled_data = np.random.permutation(train_data)\n",
    "split_data = np.array_split(shuffled_data, 20)"
   ]
  },
  {
   "cell_type": "code",
   "execution_count": 5,
   "metadata": {},
   "outputs": [],
   "source": [
    "bias_arr = []\n",
    "bias2_arr = []\n",
    "variance_arr = []\n",
    "irr_err_arr = []\n",
    "mse_arr = []"
   ]
  },
  {
   "cell_type": "code",
   "execution_count": 6,
   "metadata": {},
   "outputs": [],
   "source": [
    "# x_test = test_data[:, 0].reshape(-1, 1)\n",
    "# print(x_test)\n",
    "y_test = test_data[:, 1]\n",
    "# poly = PolynomialFeatures(degree=15)\n",
    "# x_test_poly = poly.fit_transform(x_test)"
   ]
  },
  {
   "cell_type": "code",
   "execution_count": 7,
   "metadata": {},
   "outputs": [
    {
     "name": "stdout",
     "output_type": "stream",
     "text": [
      "Degree: 1 Bias: 0.2700502817550129 Variance: 0.004968065286228395 Irr_err: 4.649058915617843e-18 MSE: 0.11914989028739484\n",
      "Degree: 2 Bias: 0.08713397995194551 Variance: 0.0009990132973291244 Irr_err: -1.6978606021123e-18 MSE: 0.013085427518251685\n",
      "Degree: 3 Bias: 0.03355034041908128 Variance: 0.0004000606866160792 Irr_err: -4.3018431698793604e-18 MSE: 0.005111520038056329\n",
      "Degree: 4 Bias: 0.025319320772318445 Variance: 0.0005290058323762087 Irr_err: 1.990595188683386e-18 MSE: 0.004788940173793375\n",
      "Degree: 5 Bias: 0.02478712038269821 Variance: 0.0007107722655685374 Irr_err: -1.3183898417423734e-18 MSE: 0.0049189292463143915\n",
      "Degree: 6 Bias: 0.02570185112911134 Variance: 0.0013449590791322246 Irr_err: -2.7408630920433553e-18 MSE: 0.005585226733653675\n",
      "Degree: 7 Bias: 0.02637777756464665 Variance: 0.0012370428517002301 Irr_err: -2.3418766925686897e-19 MSE: 0.005459689054647849\n",
      "Degree: 8 Bias: 0.026793738785334274 Variance: 0.001428020830344407 Irr_err: 4.111294638065033e-18 MSE: 0.005703059602621647\n",
      "Degree: 9 Bias: 0.027058233001464115 Variance: 0.0018892283979180197 Irr_err: 2.5500435096859064e-18 MSE: 0.006125869166675449\n",
      "Degree: 10 Bias: 0.030532351495954645 Variance: 0.006204319195274054 Irr_err: 2.7755575615628914e-19 MSE: 0.01083527772499658\n",
      "Degree: 11 Bias: 0.035807725305815795 Variance: 0.015454476604160732 Irr_err: -1.3877787807814457e-17 MSE: 0.02136091120745821\n",
      "Degree: 12 Bias: 0.030942935029649163 Variance: 0.018888775942590898 Irr_err: 2.7755575615628915e-18 MSE: 0.023354681912347543\n",
      "Degree: 13 Bias: 0.03998823964992333 Variance: 0.04386978290150566 Irr_err: -2.2204460492503132e-17 MSE: 0.05146048589633684\n",
      "Degree: 14 Bias: 0.03699954971546746 Variance: 0.3337357903703329 Irr_err: 4.4408920985006264e-17 MSE: 0.340410741646615\n",
      "Degree: 15 Bias: 0.07553529527888299 Variance: 0.6239789538452635 Irr_err: 1.5987211554602254e-16 MSE: 0.7044135011750321\n"
     ]
    }
   ],
   "source": [
    "# y_pred_val = [[0 for x in range(20)] for y in range(200)]\n",
    "# Make a model for the class of polynomial functions of degree k\n",
    "for k in range(1, 16):\n",
    "    bias = 0\n",
    "    variance = 0\n",
    "    mse = 0\n",
    "#     irr_err = 0\n",
    "    # irr_err = 1\n",
    "    poly = PolynomialFeatures(degree=k)\n",
    "    x_test = poly.fit_transform(test_data[:, 0].reshape(-1, 1)) # DON'T CHANGE\n",
    "    # Iterate through the 200 test points\n",
    "    e1 = np.zeros(200)\n",
    "    y_pred_val = np.zeros((200, 20))\n",
    "    for i in range(20):\n",
    "        x_train = poly.fit_transform(split_data[i][:, 0].reshape(-1, 1))\n",
    "        y_train = split_data[i][:, 1]\n",
    "        model = LinearRegression().fit(x_train, y_train)\n",
    "        y_pred_val[:, i] = model.predict(x_test)\n",
    "        e1 += (y_test - y_pred_val[:, i]) ** 2\n",
    "    e1 = e1 / 20\n",
    "    y_pred_avg = np.mean(y_pred_val, axis=1)\n",
    "    bias = np.mean(abs(y_test - y_pred_avg))\n",
    "    bias2 = np.mean((y_test - y_pred_avg)**2)\n",
    "    variance = np.mean(np.mean((y_pred_val - np.mean(y_pred_val, axis=1).reshape(-1, 1)) ** 2))\n",
    "    irr_err = np.mean(e1 - (y_test - y_pred_avg)**2 - np.mean((y_pred_val - np.mean(y_pred_val, axis=1).reshape(-1, 1)) ** 2))\n",
    "    mse = np.mean(e1)\n",
    "    print(\"Degree: \" + str(k) + \" Bias: \" + str(bias) + \" Variance: \" + str(variance) + \" Irr_err: \" + str(irr_err) + \" MSE: \" + str(mse))\n",
    "    bias_arr.append(bias)\n",
    "    variance_arr.append(variance)\n",
    "    irr_err_arr.append(irr_err)\n",
    "    mse_arr.append(mse)\n",
    "    bias2_arr.append(bias2)"
   ]
  },
  {
   "cell_type": "code",
   "execution_count": 8,
   "metadata": {},
   "outputs": [
    {
     "name": "stdout",
     "output_type": "stream",
     "text": [
      "+--------+----------------------+-----------------------+\n",
      "| Degree |         Bias         |        Variance       |\n",
      "+--------+----------------------+-----------------------+\n",
      "|   1    |  0.2700502817550129  |  0.004968065286228395 |\n",
      "|   2    | 0.08713397995194551  | 0.0009990132973291244 |\n",
      "|   3    | 0.03355034041908128  | 0.0004000606866160792 |\n",
      "|   4    | 0.025319320772318445 | 0.0005290058323762087 |\n",
      "|   5    | 0.02478712038269821  | 0.0007107722655685374 |\n",
      "|   6    | 0.02570185112911134  | 0.0013449590791322246 |\n",
      "|   7    | 0.02637777756464665  | 0.0012370428517002301 |\n",
      "|   8    | 0.026793738785334274 |  0.001428020830344407 |\n",
      "|   9    | 0.027058233001464115 | 0.0018892283979180197 |\n",
      "|   10   | 0.030532351495954645 |  0.006204319195274054 |\n",
      "|   11   | 0.035807725305815795 |  0.015454476604160732 |\n",
      "|   12   | 0.030942935029649163 |  0.018888775942590898 |\n",
      "|   13   | 0.03998823964992333  |  0.04386978290150566  |\n",
      "|   14   | 0.03699954971546746  |   0.3337357903703329  |\n",
      "|   15   | 0.07553529527888299  |   0.6239789538452635  |\n",
      "+--------+----------------------+-----------------------+\n"
     ]
    }
   ],
   "source": [
    "degrees = np.arange(1,16)\n",
    "table = PrettyTable()\n",
    "table.add_column(\"Degree\", degrees)\n",
    "table.add_column(\"Bias\", bias_arr)\n",
    "table.add_column(\"Variance\", variance_arr)\n",
    "print(table)"
   ]
  },
  {
   "cell_type": "code",
   "execution_count": 9,
   "metadata": {},
   "outputs": [
    {
     "name": "stdout",
     "output_type": "stream",
     "text": [
      "+--------+-------------------------+\n",
      "| Degree |    Irreducible Error    |\n",
      "+--------+-------------------------+\n",
      "|   1    |  4.649058915617843e-18  |\n",
      "|   2    |   -1.6978606021123e-18  |\n",
      "|   3    | -4.3018431698793604e-18 |\n",
      "|   4    |  1.990595188683386e-18  |\n",
      "|   5    | -1.3183898417423734e-18 |\n",
      "|   6    | -2.7408630920433553e-18 |\n",
      "|   7    | -2.3418766925686897e-19 |\n",
      "|   8    |  4.111294638065033e-18  |\n",
      "|   9    |  2.5500435096859064e-18 |\n",
      "|   10   |  2.7755575615628914e-19 |\n",
      "|   11   | -1.3877787807814457e-17 |\n",
      "|   12   |  2.7755575615628915e-18 |\n",
      "|   13   | -2.2204460492503132e-17 |\n",
      "|   14   |  4.4408920985006264e-17 |\n",
      "|   15   |  1.5987211554602254e-16 |\n",
      "+--------+-------------------------+\n"
     ]
    }
   ],
   "source": [
    "table = PrettyTable()\n",
    "table.add_column(\"Degree\", degrees)\n",
    "table.add_column(\"Irreducible Error\", irr_err_arr)\n",
    "print(table)"
   ]
  },
  {
   "cell_type": "code",
   "execution_count": 10,
   "metadata": {},
   "outputs": [
    {
     "data": {
      "image/png": "[encoded data removed]",
      "text/plain": [
       "<Figure size 432x288 with 1 Axes>"
      ]
     },
     "metadata": {
      "needs_background": "light"
     },
     "output_type": "display_data"
    }
   ],
   "source": [
    "degrees = np.arange(1,16)\n",
    "plt.plot(degrees, bias_arr, label='Bias')\n",
    "plt.legend()\n",
    "plt.xlabel('Degree')\n",
    "plt.ylabel('Error')\n",
    "plt.show()"
   ]
  },
  {
   "cell_type": "code",
   "execution_count": 11,
   "metadata": {},
   "outputs": [
    {
     "data": {
      "image/png": "[encoded data removed]",
      "text/plain": [
       "<Figure size 432x288 with 1 Axes>"
      ]
     },
     "metadata": {
      "needs_background": "light"
     },
     "output_type": "display_data"
    }
   ],
   "source": [
    "degrees = np.arange(1,16)\n",
    "plt.plot(degrees, variance_arr, label='Variance')\n",
    "plt.legend()\n",
    "plt.xlabel('Degree')\n",
    "plt.ylabel('Error')\n",
    "plt.show()"
   ]
  },
  {
   "cell_type": "code",
   "execution_count": 12,
   "metadata": {},
   "outputs": [
    {
     "data": {
      "image/png": "[encoded data removed]",
      "text/plain": [
       "<Figure size 432x288 with 1 Axes>"
      ]
     },
     "metadata": {
      "needs_background": "light"
     },
     "output_type": "display_data"
    }
   ],
   "source": [
    "degrees = np.arange(1,16)\n",
    "plt.plot(degrees, irr_err_arr, label='Irreducible Error')\n",
    "plt.legend()\n",
    "plt.xlabel('Degree')\n",
    "plt.ylabel('Error')\n",
    "plt.ylim(-1, 4)\n",
    "plt.show()"
   ]
  },
  {
   "cell_type": "code",
   "execution_count": 13,
   "metadata": {},
   "outputs": [],
   "source": [
    "bias_sq_arr = [0] * 10\n",
    "for i in range (10):\n",
    "    bias_sq_arr[i] = bias2_arr[i]\n",
    "var_plot_arr = [0] * 10\n",
    "for i in range(10):\n",
    "    var_plot_arr[i] = variance_arr[i]\n",
    "mse_plot_arr = [0] * 10\n",
    "for i in range(10):\n",
    "    mse_plot_arr[i] = mse_arr[i]"
   ]
  },
  {
   "cell_type": "code",
   "execution_count": 14,
   "metadata": {},
   "outputs": [
    {
     "data": {
      "image/png": "[encoded data removed]",
      "text/plain": [
       "<Figure size 432x288 with 1 Axes>"
      ]
     },
     "metadata": {
      "needs_background": "light"
     },
     "output_type": "display_data"
    }
   ],
   "source": [
    "degree_10 = np.arange(1,11)\n",
    "plt.plot(degree_10, bias_sq_arr,label='Bias^2')\n",
    "plt.plot(degree_10, var_plot_arr, label='Var')\n",
    "plt.plot(degree_10, mse_plot_arr, label='MSE')\n",
    "plt.legend()\n",
    "plt.xlabel('Model Complexity')\n",
    "plt.ylabel('Error')\n",
    "plt.show()"
   ]
  }
 ],
 "metadata": {
  "kernelspec": {
   "display_name": "Python 3",
   "language": "python",
   "name": "python3"
  },
  "language_info": {
   "codemirror_mode": {
    "name": "ipython",
    "version": 3
   },
   "file_extension": ".py",
   "mimetype": "text/x-python",
   "name": "python",
   "nbconvert_exporter": "python",
   "pygments_lexer": "ipython3",
   "version": "3.10.6"
  },
  "orig_nbformat": 4,
  "vscode": {
   "interpreter": {
    "hash": "916dbcbb3f70747c44a77c7bcd40155683ae19c65e1c03b4aa3499c5328201f1"
   }
  }
 },
 "nbformat": 4,
 "nbformat_minor": 2
}
