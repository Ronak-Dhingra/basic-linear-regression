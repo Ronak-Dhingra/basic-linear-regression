{
 "cells": [
  {
   "cell_type": "code",
   "execution_count": 1,
   "metadata": {},
   "outputs": [],
   "source": [
    "import pickle\n",
    "import numpy as np\n",
    "from sklearn.linear_model import LinearRegression"
   ]
  },
  {
   "cell_type": "code",
   "execution_count": 2,
   "metadata": {},
   "outputs": [],
   "source": [
    "with open('capacitor_dataset.pickle', 'rb') as file:\n",
    "    data = pickle.load(file)"
   ]
  },
  {
   "cell_type": "code",
   "execution_count": 3,
   "metadata": {},
   "outputs": [],
   "source": [
    "# 1000\n",
    "# y = mx + b\n",
    "t = data[:,0]\n",
    "q = data[:,1]\n",
    "y = np.log(q)\n",
    "t = t.reshape(-1,1)\n",
    "reg = LinearRegression().fit(t, y)"
   ]
  },
  {
   "cell_type": "code",
   "execution_count": 4,
   "metadata": {},
   "outputs": [
    {
     "name": "stdout",
     "output_type": "stream",
     "text": [
      "4.999999999999627e-05\n"
     ]
    }
   ],
   "source": [
    "capacitance = np.exp(reg.intercept_) / 5\n",
    "print(capacitance)"
   ]
  },
  {
   "cell_type": "code",
   "execution_count": 5,
   "metadata": {},
   "outputs": [
    {
     "name": "stdout",
     "output_type": "stream",
     "text": [
      "[100000.00000001]\n"
     ]
    }
   ],
   "source": [
    "resistance = (-1/(reg.coef_ * capacitance)) \n",
    "print(resistance)\n",
    "resistance = resistance[0]"
   ]
  },
  {
   "cell_type": "code",
   "execution_count": 6,
   "metadata": {},
   "outputs": [
    {
     "name": "stdout",
     "output_type": "stream",
     "text": [
      "Capacitance: 4.999999999999627e-05 F\n",
      "Resistance: 100000.00000000751 Ohms\n"
     ]
    }
   ],
   "source": [
    "print(\"Capacitance: \" + str(capacitance) + \" F\") # Approximately 5 * 10 ^ -5\n",
    "print(\"Resistance: \" + str(resistance) + \" Ohms\") # Approximately 10 ^ 5"
   ]
  }
 ],
 "metadata": {
  "kernelspec": {
   "display_name": "Python 3",
   "language": "python",
   "name": "python3"
  },
  "language_info": {
   "codemirror_mode": {
    "name": "ipython",
    "version": 3
   },
   "file_extension": ".py",
   "mimetype": "text/x-python",
   "name": "python",
   "nbconvert_exporter": "python",
   "pygments_lexer": "ipython3",
   "version": "3.10.6"
  },
  "orig_nbformat": 4,
  "vscode": {
   "interpreter": {
    "hash": "916dbcbb3f70747c44a77c7bcd40155683ae19c65e1c03b4aa3499c5328201f1"
   }
  }
 },
 "nbformat": 4,
 "nbformat_minor": 2
}
